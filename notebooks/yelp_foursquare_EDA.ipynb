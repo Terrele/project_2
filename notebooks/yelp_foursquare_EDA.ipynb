{
 "cells": [
  {
   "cell_type": "code",
   "execution_count": 1,
   "metadata": {},
   "outputs": [],
   "source": [
    "# imports\n",
    "import requests\n",
    "from IPython.display import JSON\n",
    "import pandas as pd\n",
    "import os"
   ]
  },
  {
   "cell_type": "markdown",
   "metadata": {},
   "source": [
    "# Foursquare"
   ]
  },
  {
   "cell_type": "markdown",
   "metadata": {},
   "source": [
    "Send a request to Foursquare with a small radius (1000m) for all the bike stations in your city of choice. "
   ]
  },
  {
   "cell_type": "code",
   "execution_count": 2,
   "metadata": {},
   "outputs": [],
   "source": [
    "#ll contains the latitude and longitude for all the bikestations in Vancouver.\n",
    "df = pd.read_csv(\"bike_info.csv\")\n",
    "rows = df.shape[0]\n",
    "ll = []\n",
    "for i in range(rows):\n",
    "    ll.append((f\"{str(df['latitude'][i])},{str(df['longitude'][i])}\"))"
   ]
  },
  {
   "cell_type": "code",
   "execution_count": 3,
   "metadata": {},
   "outputs": [],
   "source": [
    "def station(ll_value):\n",
    "    '''\n",
    "    ll_value: Takes in a string with \"latitude,longitude\"\n",
    "    return: HTTP Code (200 for success)\n",
    "    '''\n",
    "    headers = {\"Accept\": \"application/json\"}\n",
    "    headers[\"Authorization\"] = os.environ.get('FOURSQUARE_API_KEY')\n",
    "    fields = 'name,rating,categories,price,popularity,geocodes,distance,features'\n",
    "    url = (f'https://api.foursquare.com/v3/places/search')\n",
    "    parameters = {'ll' : ll_value,\n",
    "                  'fields' : fields,\n",
    "                  'radius' : 1000,\n",
    "                  'categories' : '13065,13003',\n",
    "                  'limit' : '50'\n",
    "                 }\n",
    "    four_square_networks = requests.get(url, headers=headers, params=parameters)\n",
    "    return four_square_networks"
   ]
  },
  {
   "cell_type": "code",
   "execution_count": 4,
   "metadata": {},
   "outputs": [
    {
     "data": {
      "application/json": {
       "context": {
        "geo_bounds": {
         "circle": {
          "center": {
           "latitude": 49.262487,
           "longitude": -123.114397
          },
          "radius": 1000
         }
        }
       },
       "results": [
        {
         "categories": [
          {
           "icon": {
            "prefix": "https://ss3.4sqi.net/img/categories_v2/food/ramen_",
            "suffix": ".png"
           },
           "id": 13272,
           "name": "Ramen Restaurant"
          }
         ],
         "distance": 186,
         "features": {
          "food_and_drink": {
           "meals": {
            "brunch": true,
            "dinner": true,
            "lunch": true
           }
          },
          "payment": {
           "credit_cards": {
            "accepts_credit_cards": true
           }
          }
         },
         "geocodes": {
          "main": {
           "latitude": 49.263102,
           "longitude": -123.116677
          },
          "roof": {
           "latitude": 49.263102,
           "longitude": -123.116677
          }
         },
         "name": "Hokkaido Ramen Santouka",
         "popularity": 0.9843029339948064,
         "rating": 8.7
        },
        {
         "categories": [
          {
           "icon": {
            "prefix": "https://ss3.4sqi.net/img/categories_v2/nightlife/pub_",
            "suffix": ".png"
           },
           "id": 13003,
           "name": "Bar"
          },
          {
           "icon": {
            "prefix": "https://ss3.4sqi.net/img/categories_v2/food/default_",
            "suffix": ".png"
           },
           "id": 13065,
           "name": "Restaurant"
          }
         ],
         "distance": 250,
         "features": {
          "amenities": {
           "live_music": false,
           "outdoor_seating": true
          },
          "food_and_drink": {
           "alcohol": {
            "beer": true,
            "cocktails": true,
            "full_bar": true,
            "wine": true
           },
           "meals": {
            "happy_hour": false
           }
          },
          "payment": {
           "credit_cards": {
            "accepts_credit_cards": true
           }
          },
          "services": {
           "dine_in": {
            "online_reservations": true,
            "reservations": true
           }
          }
         },
         "geocodes": {
          "main": {
           "latitude": 49.263123,
           "longitude": -123.117652
          },
          "roof": {
           "latitude": 49.263123,
           "longitude": -123.117652
          }
         },
         "name": "Rogue Kitchen & Wetbar",
         "popularity": 0.9808146971047634,
         "price": 3,
         "rating": 8.8
        },
        {
         "categories": [
          {
           "icon": {
            "prefix": "https://ss3.4sqi.net/img/categories_v2/food/coffeeshop_",
            "suffix": ".png"
           },
           "id": 13035,
           "name": "Coffee Shop"
          },
          {
           "icon": {
            "prefix": "https://ss3.4sqi.net/img/categories_v2/food/default_",
            "suffix": ".png"
           },
           "id": 13065,
           "name": "Restaurant"
          }
         ],
         "distance": 225,
         "features": {
          "amenities": {
           "live_music": false,
           "outdoor_seating": true
          },
          "food_and_drink": {
           "alcohol": {
            "cocktails": false,
            "full_bar": false
           },
           "meals": {
            "breakfast": false,
            "brunch": false,
            "dessert": true,
            "happy_hour": false
           }
          },
          "payment": {
           "credit_cards": {
            "accepts_credit_cards": true
           }
          },
          "services": {
           "delivery": false,
           "dine_in": {
            "groups_only_reservations": false,
            "reservations": false
           }
          }
         },
         "geocodes": {
          "main": {
           "latitude": 49.263133,
           "longitude": -123.117248
          },
          "roof": {
           "latitude": 49.263133,
           "longitude": -123.117248
          }
         },
         "name": "Elysian Coffee Broadway",
         "popularity": 0.9799813960699197,
         "price": 1,
         "rating": 8.6
        },
        {
         "categories": [
          {
           "icon": {
            "prefix": "https://ss3.4sqi.net/img/categories_v2/food/cafe_",
            "suffix": ".png"
           },
           "id": 13034,
           "name": "Café"
          },
          {
           "icon": {
            "prefix": "https://ss3.4sqi.net/img/categories_v2/food/coffeeshop_",
            "suffix": ".png"
           },
           "id": 13035,
           "name": "Coffee Shop"
          },
          {
           "icon": {
            "prefix": "https://ss3.4sqi.net/img/categories_v2/food/default_",
            "suffix": ".png"
           },
           "id": 13065,
           "name": "Restaurant"
          }
         ],
         "distance": 299,
         "features": {
          "amenities": {
           "live_music": false,
           "outdoor_seating": false
          },
          "food_and_drink": {
           "alcohol": {
            "cocktails": false,
            "full_bar": false
           },
           "meals": {
            "brunch": true
           }
          },
          "payment": {
           "credit_cards": {
            "accepts_credit_cards": true
           }
          },
          "services": {
           "delivery": false,
           "dine_in": {
            "groups_only_reservations": false,
            "reservations": false
           }
          }
         },
         "geocodes": {
          "main": {
           "latitude": 49.263286,
           "longitude": -123.110286
          },
          "roof": {
           "latitude": 49.263286,
           "longitude": -123.110286
          }
         },
         "name": "Aperture Coffee Bar",
         "popularity": 0.9275609472501066,
         "price": 1,
         "rating": 8.7
        },
        {
         "categories": [
          {
           "icon": {
            "prefix": "https://ss3.4sqi.net/img/categories_v2/food/coffeeshop_",
            "suffix": ".png"
           },
           "id": 13035,
           "name": "Coffee Shop"
          },
          {
           "icon": {
            "prefix": "https://ss3.4sqi.net/img/categories_v2/food/default_",
            "suffix": ".png"
           },
           "id": 13065,
           "name": "Restaurant"
          }
         ],
         "distance": 430,
         "features": {
          "amenities": {
           "live_music": false,
           "outdoor_seating": true
          },
          "food_and_drink": {
           "alcohol": {
            "cocktails": false,
            "full_bar": false
           },
           "meals": {
            "brunch": true,
            "dinner": false,
            "happy_hour": false,
            "lunch": true
           }
          },
          "payment": {
           "credit_cards": {
            "accepts_credit_cards": true
           }
          },
          "services": {
           "delivery": false,
           "dine_in": {
            "groups_only_reservations": false,
            "reservations": false
           }
          }
         },
         "geocodes": {
          "main": {
           "latitude": 49.263703,
           "longitude": -123.108618
          },
          "roof": {
           "latitude": 49.263703,
           "longitude": -123.108618
          }
         },
         "name": "Milano Coffee",
         "popularity": 0.954459129491105,
         "price": 2,
         "rating": 8.8
        },
        {
         "categories": [
          {
           "icon": {
            "prefix": "https://ss3.4sqi.net/img/categories_v2/food/dimsum_",
            "suffix": ".png"
           },
           "id": 13106,
           "name": "Dim Sum Restaurant"
          }
         ],
         "distance": 136,
         "features": {
          "amenities": {
           "live_music": false,
           "outdoor_seating": false
          },
          "food_and_drink": {
           "alcohol": {
            "cocktails": false,
            "full_bar": false
           },
           "meals": {
            "brunch": true,
            "dinner": true,
            "happy_hour": true,
            "lunch": true
           }
          },
          "payment": {
           "credit_cards": {
            "accepts_credit_cards": false
           },
           "digital_wallet": {
            "accepts_nfc": false
           }
          },
          "services": {
           "delivery": true,
           "dine_in": {
            "groups_only_reservations": false,
            "reservations": false
           }
          }
         },
         "geocodes": {
          "main": {
           "latitude": 49.263087,
           "longitude": -123.115946
          },
          "roof": {
           "latitude": 49.263087,
           "longitude": -123.115946
          }
         },
         "name": "Peaceful Restaurant",
         "popularity": 0.958489981008488,
         "price": 2,
         "rating": 8
        },
        {
         "categories": [
          {
           "icon": {
            "prefix": "https://ss3.4sqi.net/img/categories_v2/food/indian_",
            "suffix": ".png"
           },
           "id": 13199,
           "name": "Indian Restaurant"
          }
         ],
         "distance": 553,
         "features": {
          "amenities": {
           "live_music": false,
           "outdoor_seating": false
          },
          "food_and_drink": {
           "alcohol": {
            "cocktails": true,
            "full_bar": true
           },
           "meals": {
            "dinner": true
           }
          },
          "services": {
           "delivery": false,
           "dine_in": {
            "groups_only_reservations": false,
            "reservations": false
           }
          }
         },
         "geocodes": {
          "main": {
           "latitude": 49.257634,
           "longitude": -123.114751
          },
          "roof": {
           "latitude": 49.257634,
           "longitude": -123.114751
          }
         },
         "name": "Vij's",
         "popularity": 0.9583930855393202,
         "price": 2,
         "rating": 8.8
        },
        {
         "categories": [
          {
           "icon": {
            "prefix": "https://ss3.4sqi.net/img/categories_v2/nightlife/pub_",
            "suffix": ".png"
           },
           "id": 13003,
           "name": "Bar"
          },
          {
           "icon": {
            "prefix": "https://ss3.4sqi.net/img/categories_v2/food/brewery_",
            "suffix": ".png"
           },
           "id": 13029,
           "name": "Brewery"
          },
          {
           "icon": {
            "prefix": "https://ss3.4sqi.net/img/categories_v2/food/default_",
            "suffix": ".png"
           },
           "id": 13065,
           "name": "Restaurant"
          }
         ],
         "distance": 674,
         "features": {
          "amenities": {
           "live_music": false,
           "outdoor_seating": false
          },
          "food_and_drink": {
           "alcohol": {
            "beer": true,
            "cocktails": false,
            "full_bar": false
           },
           "meals": {
            "brunch": false,
            "dinner": true,
            "happy_hour": false,
            "lunch": true
           }
          },
          "payment": {
           "credit_cards": {
            "accepts_credit_cards": true
           }
          },
          "services": {
           "delivery": false,
           "dine_in": {
            "groups_only_reservations": false,
            "reservations": false
           }
          }
         },
         "geocodes": {
          "main": {
           "latitude": 49.263877,
           "longitude": -123.105307
          },
          "roof": {
           "latitude": 49.263877,
           "longitude": -123.105307
          }
         },
         "name": "33 Acres Brewing Co",
         "popularity": 0.9577729545366459,
         "price": 2,
         "rating": 9.2
        },
        {
         "categories": [
          {
           "icon": {
            "prefix": "https://ss3.4sqi.net/img/categories_v2/food/sushi_",
            "suffix": ".png"
           },
           "id": 13276,
           "name": "Sushi Restaurant"
          }
         ],
         "distance": 158,
         "features": {},
         "geocodes": {
          "main": {
           "latitude": 49.263776,
           "longitude": -123.113815
          },
          "roof": {
           "latitude": 49.263776,
           "longitude": -123.113815
          }
         },
         "name": "Uma Sushi",
         "popularity": 0.9558544242471222,
         "price": 2,
         "rating": 7.8
        },
        {
         "categories": [
          {
           "icon": {
            "prefix": "https://ss3.4sqi.net/img/categories_v2/food/cafe_",
            "suffix": ".png"
           },
           "id": 13034,
           "name": "Café"
          },
          {
           "icon": {
            "prefix": "https://ss3.4sqi.net/img/categories_v2/food/coffeeshop_",
            "suffix": ".png"
           },
           "id": 13035,
           "name": "Coffee Shop"
          },
          {
           "icon": {
            "prefix": "https://ss3.4sqi.net/img/categories_v2/food/default_",
            "suffix": ".png"
           },
           "id": 13065,
           "name": "Restaurant"
          }
         ],
         "distance": 724,
         "features": {
          "amenities": {
           "live_music": false,
           "outdoor_seating": false
          },
          "food_and_drink": {
           "alcohol": {
            "cocktails": false,
            "full_bar": false
           },
           "meals": {
            "breakfast": true
           }
          },
          "payment": {
           "credit_cards": {
            "accepts_credit_cards": true
           }
          },
          "services": {
           "delivery": false,
           "dine_in": {
            "groups_only_reservations": false,
            "reservations": false
           }
          }
         },
         "geocodes": {
          "main": {
           "latitude": 49.264587,
           "longitude": -123.105043
          },
          "roof": {
           "latitude": 49.264587,
           "longitude": -123.105043
          }
         },
         "name": "Elysian Coffee",
         "popularity": 0.9517654354482384,
         "price": 1,
         "rating": 8.9
        },
        {
         "categories": [
          {
           "icon": {
            "prefix": "https://ss3.4sqi.net/img/categories_v2/food/bagels_",
            "suffix": ".png"
           },
           "id": 13001,
           "name": "Bagel Shop"
          },
          {
           "icon": {
            "prefix": "https://ss3.4sqi.net/img/categories_v2/food/bakery_",
            "suffix": ".png"
           },
           "id": 13002,
           "name": "Bakery"
          },
          {
           "icon": {
            "prefix": "https://ss3.4sqi.net/img/categories_v2/food/deli_",
            "suffix": ".png"
           },
           "id": 13039,
           "name": "Deli"
          }
         ],
         "distance": 283,
         "features": {
          "amenities": {
           "live_music": false,
           "outdoor_seating": true
          },
          "food_and_drink": {
           "alcohol": {
            "cocktails": false,
            "full_bar": false
           },
           "meals": {
            "breakfast": true,
            "brunch": true,
            "happy_hour": false,
            "lunch": true
           }
          },
          "payment": {
           "credit_cards": {
            "accepts_credit_cards": true
           }
          },
          "services": {
           "delivery": false,
           "dine_in": {
            "groups_only_reservations": false,
            "reservations": false
           }
          }
         },
         "geocodes": {
          "main": {
           "latitude": 49.264687,
           "longitude": -123.112352
          },
          "roof": {
           "latitude": 49.264687,
           "longitude": -123.112352
          }
         },
         "name": "Solly's Bagelry",
         "popularity": 0.9792643695980776,
         "price": 2,
         "rating": 7.9
        },
        {
         "categories": [
          {
           "icon": {
            "prefix": "https://ss3.4sqi.net/img/categories_v2/food/bbqalt_",
            "suffix": ".png"
           },
           "id": 13026,
           "name": "BBQ Joint"
          },
          {
           "icon": {
            "prefix": "https://ss3.4sqi.net/img/categories_v2/food/japanese_",
            "suffix": ".png"
           },
           "id": 13263,
           "name": "Japanese Restaurant"
          }
         ],
         "distance": 813,
         "features": {
          "amenities": {
           "live_music": true,
           "music": true,
           "outdoor_seating": false
          },
          "food_and_drink": {
           "alcohol": {
            "cocktails": true,
            "full_bar": true
           },
           "meals": {
            "brunch": true,
            "dinner": true,
            "happy_hour": true,
            "lunch": true
           }
          },
          "payment": {
           "credit_cards": {
            "accepts_credit_cards": true
           }
          },
          "services": {
           "delivery": false,
           "dine_in": {
            "online_reservations": true,
            "reservations": true
           }
          }
         },
         "geocodes": {
          "main": {
           "latitude": 49.263191,
           "longitude": -123.125282
          },
          "roof": {
           "latitude": 49.263191,
           "longitude": -123.125282
          }
         },
         "name": "Gyu-Kaku BBQ",
         "popularity": 0.9733343668850044,
         "price": 3,
         "rating": 8.7
        },
        {
         "categories": [
          {
           "icon": {
            "prefix": "https://ss3.4sqi.net/img/categories_v2/food/cafe_",
            "suffix": ".png"
           },
           "id": 13034,
           "name": "Café"
          },
          {
           "icon": {
            "prefix": "https://ss3.4sqi.net/img/categories_v2/food/coffeeshop_",
            "suffix": ".png"
           },
           "id": 13035,
           "name": "Coffee Shop"
          },
          {
           "icon": {
            "prefix": "https://ss3.4sqi.net/img/categories_v2/food/deli_",
            "suffix": ".png"
           },
           "id": 13039,
           "name": "Deli"
          }
         ],
         "distance": 812,
         "features": {},
         "geocodes": {
          "main": {
           "latitude": 49.261873,
           "longitude": -123.103271
          },
          "roof": {
           "latitude": 49.261873,
           "longitude": -123.103271
          }
         },
         "name": "The Federal Store",
         "popularity": 0.9619975969923646,
         "rating": 8.3
        },
        {
         "categories": [
          {
           "icon": {
            "prefix": "https://ss3.4sqi.net/img/categories_v2/nightlife/pub_",
            "suffix": ".png"
           },
           "id": 13003,
           "name": "Bar"
          },
          {
           "icon": {
            "prefix": "https://ss3.4sqi.net/img/categories_v2/food/default_",
            "suffix": ".png"
           },
           "id": 13077,
           "name": "Belgian Restaurant"
          },
          {
           "icon": {
            "prefix": "https://ss3.4sqi.net/img/categories_v2/food/tapas_",
            "suffix": ".png"
           },
           "id": 13347,
           "name": "Tapas Restaurant"
          }
         ],
         "distance": 744,
         "features": {
          "amenities": {
           "live_music": false,
           "outdoor_seating": true
          },
          "food_and_drink": {
           "alcohol": {
            "beer": true,
            "full_bar": true,
            "wine": true
           },
           "meals": {
            "brunch": true,
            "dinner": true,
            "lunch": true
           }
          },
          "payment": {
           "credit_cards": {
            "accepts_credit_cards": true
           }
          },
          "services": {
           "delivery": false,
           "dine_in": {
            "reservations": true
           }
          }
         },
         "geocodes": {
          "main": {
           "latitude": 49.255744,
           "longitude": -123.115401
          },
          "roof": {
           "latitude": 49.255744,
           "longitude": -123.115401
          }
         },
         "name": "Biercraft Bistro",
         "popularity": 0.959807759389171,
         "price": 3,
         "rating": 8.2
        },
        {
         "categories": [
          {
           "icon": {
            "prefix": "https://ss3.4sqi.net/img/categories_v2/food/malaysian_",
            "suffix": ".png"
           },
           "id": 13299,
           "name": "Malay Restaurant"
          }
         ],
         "distance": 884,
         "features": {
          "amenities": {
           "parking": {
            "parking": true,
            "street_parking": true
           },
           "restroom": true,
           "wheelchair_accessible": true
          },
          "food_and_drink": {
           "meals": {
            "brunch": true,
            "dinner": true,
            "lunch": true
           }
          },
          "payment": {
           "credit_cards": {
            "accepts_credit_cards": true
           }
          }
         },
         "geocodes": {
          "main": {
           "latitude": 49.254488,
           "longitude": -123.114808
          },
          "roof": {
           "latitude": 49.254488,
           "longitude": -123.114808
          }
         },
         "name": "Potluck Hawker Eatery",
         "popularity": 0.9359327157862098,
         "price": 2,
         "rating": 8.3
        },
        {
         "categories": [
          {
           "icon": {
            "prefix": "https://ss3.4sqi.net/img/categories_v2/food/bakery_",
            "suffix": ".png"
           },
           "id": 13002,
           "name": "Bakery"
          },
          {
           "icon": {
            "prefix": "https://ss3.4sqi.net/img/categories_v2/food/default_",
            "suffix": ".png"
           },
           "id": 13065,
           "name": "Restaurant"
          }
         ],
         "distance": 846,
         "features": {
          "amenities": {
           "outdoor_seating": true,
           "restroom": true,
           "wheelchair_accessible": true
          },
          "food_and_drink": {
           "meals": {
            "breakfast": true,
            "brunch": true,
            "lunch": true
           }
          },
          "payment": {
           "credit_cards": {
            "accepts_credit_cards": true
           }
          }
         },
         "geocodes": {
          "main": {
           "latitude": 49.266667,
           "longitude": -123.10449
          },
          "roof": {
           "latitude": 49.266667,
           "longitude": -123.10449
          }
         },
         "name": "Pure Bread",
         "popularity": 0.9514941281345685,
         "price": 1,
         "rating": 8.2
        },
        {
         "categories": [
          {
           "icon": {
            "prefix": "https://ss3.4sqi.net/img/categories_v2/food/brewery_",
            "suffix": ".png"
           },
           "id": 13029,
           "name": "Brewery"
          },
          {
           "icon": {
            "prefix": "https://ss3.4sqi.net/img/categories_v2/food/default_",
            "suffix": ".png"
           },
           "id": 13065,
           "name": "Restaurant"
          }
         ],
         "distance": 962,
         "features": {
          "amenities": {
           "live_music": false,
           "music": true,
           "restroom": true
          },
          "food_and_drink": {
           "alcohol": {
            "beer": true
           },
           "meals": {
            "brunch": false
           }
          }
         },
         "geocodes": {
          "main": {
           "latitude": 49.267208,
           "longitude": -123.103319
          },
          "roof": {
           "latitude": 49.267208,
           "longitude": -123.103319
          }
         },
         "name": "R & B Brewing Inc",
         "popularity": 0.956319522499128,
         "price": 2,
         "rating": 8.4
        },
        {
         "categories": [
          {
           "icon": {
            "prefix": "https://ss3.4sqi.net/img/categories_v2/arts_entertainment/musicvenue_",
            "suffix": ".png"
           },
           "id": 10039,
           "name": "Music Venue"
          },
          {
           "icon": {
            "prefix": "https://ss3.4sqi.net/img/categories_v2/nightlife/default_",
            "suffix": ".png"
           },
           "id": 13016,
           "name": "Lounge"
          },
          {
           "icon": {
            "prefix": "https://ss3.4sqi.net/img/categories_v2/food/default_",
            "suffix": ".png"
           },
           "id": 13068,
           "name": "American Restaurant"
          }
         ],
         "distance": 984,
         "features": {
          "amenities": {
           "live_music": false,
           "outdoor_seating": false
          },
          "food_and_drink": {
           "alcohol": {
            "beer": true,
            "cocktails": true,
            "full_bar": true
           },
           "meals": {
            "happy_hour": false
           }
          },
          "payment": {
           "credit_cards": {
            "accepts_credit_cards": true
           }
          },
          "services": {
           "delivery": false,
           "dine_in": {
            "online_reservations": true,
            "reservations": true
           }
          }
         },
         "geocodes": {
          "main": {
           "latitude": 49.261723,
           "longitude": -123.100663
          },
          "roof": {
           "latitude": 49.261723,
           "longitude": -123.100663
          }
         },
         "name": "The Cascade Room",
         "popularity": 0.9213014999418627,
         "price": 2,
         "rating": 8.5
        },
        {
         "categories": [
          {
           "icon": {
            "prefix": "https://ss3.4sqi.net/img/categories_v2/food/diner_",
            "suffix": ".png"
           },
           "id": 13049,
           "name": "Diner"
          },
          {
           "icon": {
            "prefix": "https://ss3.4sqi.net/img/categories_v2/food/default_",
            "suffix": ".png"
           },
           "id": 13068,
           "name": "American Restaurant"
          }
         ],
         "distance": 924,
         "features": {
          "amenities": {
           "live_music": false,
           "outdoor_seating": false
          },
          "food_and_drink": {
           "alcohol": {
            "cocktails": true
           },
           "meals": {
            "brunch": true,
            "dinner": true,
            "lunch": true
           }
          },
          "services": {
           "delivery": false
          }
         },
         "geocodes": {
          "main": {
           "latitude": 49.263062,
           "longitude": -123.101588
          },
          "roof": {
           "latitude": 49.263062,
           "longitude": -123.101588
          }
         },
         "name": "Fable Diner",
         "popularity": 0.9472307274911825,
         "price": 2,
         "rating": 8.2
        },
        {
         "categories": [
          {
           "icon": {
            "prefix": "https://ss3.4sqi.net/img/categories_v2/food/default_",
            "suffix": ".png"
           },
           "id": 13032,
           "name": "Cafes, Coffee, and Tea Houses"
          },
          {
           "icon": {
            "prefix": "https://ss3.4sqi.net/img/categories_v2/food/default_",
            "suffix": ".png"
           },
           "id": 13134,
           "name": "Comfort Food Restaurant"
          },
          {
           "icon": {
            "prefix": "https://ss3.4sqi.net/img/categories_v2/food/deli_",
            "suffix": ".png"
           },
           "id": 13334,
           "name": "Sandwich Restaurant"
          }
         ],
         "distance": 933,
         "features": {
          "amenities": {
           "live_music": false,
           "outdoor_seating": true
          },
          "food_and_drink": {
           "meals": {
            "happy_hour": false
           }
          },
          "payment": {
           "credit_cards": {
            "accepts_credit_cards": false
           },
           "digital_wallet": {
            "accepts_nfc": false
           }
          },
          "services": {
           "delivery": false
          }
         },
         "geocodes": {
          "main": {
           "latitude": 49.260998,
           "longitude": -123.10198
          },
          "roof": {
           "latitude": 49.260998,
           "longitude": -123.10198
          }
         },
         "name": "Dock Lunch",
         "popularity": 0.9214371535986977,
         "price": 1,
         "rating": 8.2
        },
        {
         "categories": [
          {
           "icon": {
            "prefix": "https://ss3.4sqi.net/img/categories_v2/food/asian_",
            "suffix": ".png"
           },
           "id": 13099,
           "name": "Chinese Restaurant"
          }
         ],
         "distance": 515,
         "features": {
          "amenities": {
           "live_music": false,
           "outdoor_seating": false
          },
          "food_and_drink": {
           "meals": {
            "brunch": true,
            "dinner": true,
            "lunch": true
           }
          },
          "payment": {
           "credit_cards": {
            "accepts_credit_cards": true
           }
          },
          "services": {
           "delivery": false,
           "dine_in": {
            "reservations": true
           }
          }
         },
         "geocodes": {
          "main": {
           "latitude": 49.263675,
           "longitude": -123.12143
          },
          "roof": {
           "latitude": 49.263675,
           "longitude": -123.12143
          }
         },
         "name": "Dynasty Seafood Restaurant 皇朝海鮮酒家",
         "popularity": 0.9815511026704391,
         "price": 1,
         "rating": 7.6
        },
        {
         "categories": [
          {
           "icon": {
            "prefix": "https://ss3.4sqi.net/img/categories_v2/food/italian_",
            "suffix": ".png"
           },
           "id": 13236,
           "name": "Italian Restaurant"
          }
         ],
         "distance": 857,
         "features": {
          "food_and_drink": {
           "meals": {
            "breakfast": true,
            "brunch": true,
            "dinner": true,
            "lunch": true
           }
          }
         },
         "geocodes": {
          "main": {
           "latitude": 49.269578,
           "longitude": -123.10928
          },
          "roof": {
           "latitude": 49.269578,
           "longitude": -123.10928
          }
         },
         "name": "Nook",
         "popularity": 0.9566877252819658,
         "price": 2,
         "rating": 7.9
        },
        {
         "categories": [
          {
           "icon": {
            "prefix": "https://ss3.4sqi.net/img/categories_v2/arts_entertainment/movietheater_",
            "suffix": ".png"
           },
           "id": 10024,
           "name": "Movie Theater"
          },
          {
           "icon": {
            "prefix": "https://ss3.4sqi.net/img/categories_v2/nightlife/cocktails_",
            "suffix": ".png"
           },
           "id": 13009,
           "name": "Cocktail Bar"
          },
          {
           "icon": {
            "prefix": "https://ss3.4sqi.net/img/categories_v2/nightlife/default_",
            "suffix": ".png"
           },
           "id": 13016,
           "name": "Lounge"
          }
         ],
         "distance": 965,
         "features": {
          "amenities": {
           "live_music": true,
           "music": true,
           "outdoor_seating": false
          },
          "food_and_drink": {
           "alcohol": {
            "cocktails": true,
            "full_bar": true
           },
           "meals": {
            "happy_hour": false
           }
          },
          "services": {
           "dine_in": {
            "reservations": true
           }
          }
         },
         "geocodes": {
          "main": {
           "latitude": 49.264319,
           "longitude": -123.101289
          },
          "roof": {
           "latitude": 49.264319,
           "longitude": -123.101289
          }
         },
         "name": "Fox Cabaret",
         "popularity": 0.9393821944885857,
         "price": 3,
         "rating": 8
        },
        {
         "categories": [
          {
           "icon": {
            "prefix": "https://ss3.4sqi.net/img/categories_v2/food/malaysian_",
            "suffix": ".png"
           },
           "id": 13299,
           "name": "Malay Restaurant"
          }
         ],
         "distance": 590,
         "features": {
          "amenities": {
           "live_music": false,
           "outdoor_seating": false
          },
          "food_and_drink": {
           "alcohol": {
            "cocktails": true,
            "full_bar": true
           },
           "meals": {
            "brunch": true,
            "dinner": true,
            "happy_hour": true,
            "lunch": true
           }
          },
          "payment": {
           "credit_cards": {
            "accepts_credit_cards": true
           }
          },
          "services": {
           "delivery": false,
           "dine_in": {
            "reservations": true
           }
          }
         },
         "geocodes": {
          "main": {
           "latitude": 49.26315,
           "longitude": -123.12244
          },
          "roof": {
           "latitude": 49.26315,
           "longitude": -123.12244
          }
         },
         "name": "Banana Leaf",
         "popularity": 0.9666679586062555,
         "price": 3,
         "rating": 7.6
        },
        {
         "categories": [
          {
           "icon": {
            "prefix": "https://ss3.4sqi.net/img/categories_v2/food/cafe_",
            "suffix": ".png"
           },
           "id": 13034,
           "name": "Café"
          },
          {
           "icon": {
            "prefix": "https://ss3.4sqi.net/img/categories_v2/food/coffeeshop_",
            "suffix": ".png"
           },
           "id": 13035,
           "name": "Coffee Shop"
          },
          {
           "icon": {
            "prefix": "https://ss3.4sqi.net/img/categories_v2/food/default_",
            "suffix": ".png"
           },
           "id": 13065,
           "name": "Restaurant"
          }
         ],
         "distance": 977,
         "features": {
          "amenities": {
           "outdoor_seating": true
          },
          "food_and_drink": {
           "alcohol": {
            "full_bar": false
           }
          },
          "payment": {
           "credit_cards": {
            "accepts_credit_cards": true
           }
          }
         },
         "geocodes": {
          "main": {
           "latitude": 49.262496,
           "longitude": -123.100647
          },
          "roof": {
           "latitude": 49.262496,
           "longitude": -123.100647
          }
         },
         "name": "Bean Around the World",
         "popularity": 0.9574435099414751,
         "price": 1,
         "rating": 8
        },
        {
         "categories": [
          {
           "icon": {
            "prefix": "https://ss3.4sqi.net/img/categories_v2/food/sushi_",
            "suffix": ".png"
           },
           "id": 13276,
           "name": "Sushi Restaurant"
          }
         ],
         "distance": 152,
         "features": {
          "amenities": {
           "live_music": false,
           "outdoor_seating": false
          },
          "food_and_drink": {
           "alcohol": {
            "cocktails": false,
            "full_bar": false
           },
           "meals": {
            "brunch": true,
            "dinner": true,
            "happy_hour": false,
            "lunch": true
           }
          },
          "payment": {
           "credit_cards": {
            "accepts_credit_cards": true
           }
          },
          "services": {
           "delivery": false,
           "dine_in": {
            "reservations": true
           },
           "takeout": true
          }
         },
         "geocodes": {
          "main": {
           "latitude": 49.263055,
           "longitude": -123.112699
          },
          "roof": {
           "latitude": 49.263055,
           "longitude": -123.112699
          }
         },
         "name": "Sushi California",
         "popularity": 0.9680632533622728,
         "price": 2,
         "rating": 7.1
        },
        {
         "categories": [
          {
           "icon": {
            "prefix": "https://ss3.4sqi.net/img/categories_v2/food/cafe_",
            "suffix": ".png"
           },
           "id": 13034,
           "name": "Café"
          },
          {
           "icon": {
            "prefix": "https://ss3.4sqi.net/img/categories_v2/food/coffeeshop_",
            "suffix": ".png"
           },
           "id": 13035,
           "name": "Coffee Shop"
          },
          {
           "icon": {
            "prefix": "https://ss3.4sqi.net/img/categories_v2/food/deli_",
            "suffix": ".png"
           },
           "id": 13039,
           "name": "Deli"
          }
         ],
         "distance": 932,
         "features": {
          "payment": {
           "credit_cards": {
            "accepts_credit_cards": true
           }
          }
         },
         "geocodes": {
          "main": {
           "latitude": 49.254584,
           "longitude": -123.109626
          },
          "roof": {
           "latitude": 49.254584,
           "longitude": -123.109626
          }
         },
         "name": "The Mighty Oak",
         "popularity": 0.9770745319948839,
         "rating": 7.9
        },
        {
         "categories": [
          {
           "icon": {
            "prefix": "https://ss3.4sqi.net/img/categories_v2/food/taco_",
            "suffix": ".png"
           },
           "id": 13306,
           "name": "Taco Restaurant"
          }
         ],
         "distance": 834,
         "features": {
          "amenities": {
           "outdoor_seating": true
          },
          "food_and_drink": {
           "meals": {
            "dinner": true,
            "lunch": true
           }
          }
         },
         "geocodes": {
          "main": {
           "latitude": 49.266286,
           "longitude": -123.104296
          },
          "roof": {
           "latitude": 49.266286,
           "longitude": -123.104296
          }
         },
         "name": "Tacofino Ocho",
         "popularity": 0.9567652416573001,
         "price": 1,
         "rating": 7.8
        },
        {
         "categories": [
          {
           "icon": {
            "prefix": "https://ss3.4sqi.net/img/categories_v2/food/diner_",
            "suffix": ".png"
           },
           "id": 13049,
           "name": "Diner"
          }
         ],
         "distance": 709,
         "features": {
          "amenities": {
           "jukebox": false,
           "live_music": false,
           "music": false,
           "outdoor_seating": false,
           "parking": {
            "parking": true,
            "street_parking": true
           },
           "private_room": false,
           "restroom": true,
           "smoking": false,
           "tvs": false,
           "wheelchair_accessible": true
          },
          "food_and_drink": {
           "alcohol": {
            "beer": true,
            "full_bar": false
           },
           "meals": {
            "breakfast": true,
            "happy_hour": false
           }
          },
          "payment": {
           "credit_cards": {
            "accepts_credit_cards": true
           }
          },
          "services": {
           "delivery": false,
           "dine_in": {
            "reservations": true
           }
          }
         },
         "geocodes": {
          "main": {
           "latitude": 49.255996,
           "longitude": -123.114855
          },
          "roof": {
           "latitude": 49.255996,
           "longitude": -123.114855
          }
         },
         "name": "Dutch Wooden Shoe Cafe",
         "popularity": 0.9360683694430448,
         "price": 1,
         "rating": 7.6
        },
        {
         "categories": [
          {
           "icon": {
            "prefix": "https://ss3.4sqi.net/img/categories_v2/food/brewery_",
            "suffix": ".png"
           },
           "id": 13029,
           "name": "Brewery"
          },
          {
           "icon": {
            "prefix": "https://ss3.4sqi.net/img/categories_v2/food/default_",
            "suffix": ".png"
           },
           "id": 13065,
           "name": "Restaurant"
          }
         ],
         "distance": 994,
         "features": {
          "amenities": {
           "restroom": true,
           "wheelchair_accessible": true
          },
          "food_and_drink": {
           "alcohol": {
            "beer": true
           }
          }
         },
         "geocodes": {
          "main": {
           "latitude": 49.268495,
           "longitude": -123.104484
          },
          "roof": {
           "latitude": 49.268495,
           "longitude": -123.104484
          }
         },
         "name": "Faculty Brewing Co",
         "popularity": 0.930351536762141,
         "price": 2,
         "rating": 7.9
        },
        {
         "categories": [
          {
           "icon": {
            "prefix": "https://ss3.4sqi.net/img/categories_v2/nightlife/pub_",
            "suffix": ".png"
           },
           "id": 13018,
           "name": "Pub"
          },
          {
           "icon": {
            "prefix": "https://ss3.4sqi.net/img/categories_v2/nightlife/sportsbar_",
            "suffix": ".png"
           },
           "id": 13022,
           "name": "Sports Bar"
          },
          {
           "icon": {
            "prefix": "https://ss3.4sqi.net/img/categories_v2/food/default_",
            "suffix": ".png"
           },
           "id": 13065,
           "name": "Restaurant"
          }
         ],
         "distance": 760,
         "features": {
          "amenities": {
           "outdoor_seating": true
          },
          "food_and_drink": {
           "alcohol": {
            "beer": true,
            "cocktails": true,
            "full_bar": true
           },
           "meals": {
            "dinner": true,
            "happy_hour": true,
            "lunch": true
           }
          },
          "payment": {
           "credit_cards": {
            "accepts_credit_cards": true
           }
          },
          "services": {
           "delivery": false,
           "dine_in": {
            "reservations": true
           }
          }
         },
         "geocodes": {
          "main": {
           "latitude": 49.268627,
           "longitude": -123.118608
          },
          "roof": {
           "latitude": 49.268627,
           "longitude": -123.118608
          }
         },
         "name": "The Wicklow Pub",
         "popularity": 0.9929127680907123,
         "price": 1,
         "rating": 7.6
        },
        {
         "categories": [
          {
           "icon": {
            "prefix": "https://ss3.4sqi.net/img/categories_v2/food/coffeeshop_",
            "suffix": ".png"
           },
           "id": 13035,
           "name": "Coffee Shop"
          },
          {
           "icon": {
            "prefix": "https://ss3.4sqi.net/img/categories_v2/food/default_",
            "suffix": ".png"
           },
           "id": 13065,
           "name": "Restaurant"
          }
         ],
         "distance": 936,
         "features": {
          "amenities": {
           "outdoor_seating": true
          },
          "food_and_drink": {
           "meals": {
            "breakfast": true,
            "brunch": true,
            "lunch": true
           }
          },
          "payment": {
           "credit_cards": {
            "accepts_credit_cards": true
           }
          },
          "services": {
           "delivery": false,
           "dine_in": {
            "groups_only_reservations": false,
            "reservations": false
           }
          }
         },
         "geocodes": {
          "main": {
           "latitude": 49.270139,
           "longitude": -123.109085
          },
          "roof": {
           "latitude": 49.270139,
           "longitude": -123.109085
          }
         },
         "name": "JJ Bean Coffee Roasters",
         "popularity": 0.9625014534320375,
         "price": 1,
         "rating": 7.7
        },
        {
         "categories": [
          {
           "icon": {
            "prefix": "https://ss3.4sqi.net/img/categories_v2/food/japanese_",
            "suffix": ".png"
           },
           "id": 13263,
           "name": "Japanese Restaurant"
          }
         ],
         "distance": 795,
         "features": {
          "amenities": {
           "outdoor_seating": false
          },
          "payment": {
           "credit_cards": {
            "accepts_credit_cards": true
           }
          },
          "services": {
           "dine_in": {
            "groups_only_reservations": false,
            "reservations": false
           }
          }
         },
         "geocodes": {
          "main": {
           "latitude": 49.256873,
           "longitude": -123.121499
          },
          "roof": {
           "latitude": 49.256873,
           "longitude": -123.121499
          }
         },
         "name": "Hachibei Restaurant",
         "popularity": 0.9046354792449905,
         "price": 2,
         "rating": 7.5
        },
        {
         "categories": [
          {
           "icon": {
            "prefix": "https://ss3.4sqi.net/img/categories_v2/food/default_",
            "suffix": ".png"
           },
           "id": 13065,
           "name": "Restaurant"
          }
         ],
         "distance": 167,
         "features": {
          "amenities": {
           "live_music": false,
           "outdoor_seating": false
          },
          "food_and_drink": {
           "alcohol": {
            "full_bar": false
           },
           "meals": {
            "breakfast": true,
            "brunch": true,
            "happy_hour": false,
            "lunch": true
           }
          },
          "services": {
           "delivery": false,
           "dine_in": {
            "groups_only_reservations": false,
            "reservations": false
           }
          }
         },
         "geocodes": {
          "main": {
           "latitude": 49.263113,
           "longitude": -123.116273
          },
          "roof": {
           "latitude": 49.263113,
           "longitude": -123.116273
          }
         },
         "name": "Yolks",
         "popularity": 0.9598465175768381,
         "price": 1,
         "rating": 6.9
        },
        {
         "categories": [
          {
           "icon": {
            "prefix": "https://ss3.4sqi.net/img/categories_v2/nightlife/pub_",
            "suffix": ".png"
           },
           "id": 13018,
           "name": "Pub"
          },
          {
           "icon": {
            "prefix": "https://ss3.4sqi.net/img/categories_v2/food/default_",
            "suffix": ".png"
           },
           "id": 13065,
           "name": "Restaurant"
          }
         ],
         "distance": 811,
         "features": {
          "amenities": {
           "live_music": true,
           "music": true,
           "outdoor_seating": true
          },
          "food_and_drink": {
           "alcohol": {
            "beer": true,
            "cocktails": true,
            "full_bar": true
           },
           "meals": {
            "brunch": true,
            "dinner": true
           }
          },
          "services": {
           "dine_in": {
            "online_reservations": true,
            "reservations": true
           }
          }
         },
         "geocodes": {
          "main": {
           "latitude": 49.269024,
           "longitude": -123.118642
          },
          "roof": {
           "latitude": 49.269024,
           "longitude": -123.118642
          }
         },
         "name": "Mahony & Sons",
         "popularity": 0.9940585623142328,
         "rating": 7.5
        },
        {
         "categories": [
          {
           "icon": {
            "prefix": "https://ss3.4sqi.net/img/categories_v2/nightlife/pub_",
            "suffix": ".png"
           },
           "id": 13003,
           "name": "Bar"
          },
          {
           "icon": {
            "prefix": "https://ss3.4sqi.net/img/categories_v2/food/asian_",
            "suffix": ".png"
           },
           "id": 13072,
           "name": "Asian Restaurant"
          }
         ],
         "distance": 927,
         "features": {
          "amenities": {
           "live_music": false,
           "outdoor_seating": false
          },
          "food_and_drink": {
           "alcohol": {
            "full_bar": true
           }
          },
          "payment": {
           "credit_cards": {
            "accepts_credit_cards": true
           }
          },
          "services": {
           "delivery": false,
           "dine_in": {
            "reservations": true
           }
          }
         },
         "geocodes": {
          "main": {
           "latitude": 49.269474,
           "longitude": -123.107081
          },
          "roof": {
           "latitude": 49.269474,
           "longitude": -123.107081
          }
         },
         "name": "Bao Down Gastropub + Raw Bar",
         "popularity": 0.8698500058137282,
         "price": 2,
         "rating": 7.2
        },
        {
         "categories": [
          {
           "icon": {
            "prefix": "https://ss3.4sqi.net/img/categories_v2/food/default_",
            "suffix": ".png"
           },
           "id": 13068,
           "name": "American Restaurant"
          },
          {
           "icon": {
            "prefix": "https://ss3.4sqi.net/img/categories_v2/food/default_",
            "suffix": ".png"
           },
           "id": 13134,
           "name": "Comfort Food Restaurant"
          }
         ],
         "distance": 907,
         "features": {
          "amenities": {
           "live_music": false,
           "outdoor_seating": true
          },
          "food_and_drink": {
           "alcohol": {
            "cocktails": true,
            "full_bar": true
           },
           "meals": {
            "happy_hour": true
           }
          },
          "payment": {
           "credit_cards": {
            "accepts_credit_cards": true
           }
          },
          "services": {
           "delivery": false,
           "dine_in": {
            "groups_only_reservations": false,
            "reservations": false
           }
          }
         },
         "geocodes": {
          "main": {
           "latitude": 49.269449,
           "longitude": -123.107647
          },
          "roof": {
           "latitude": 49.269449,
           "longitude": -123.107647
          }
         },
         "name": "The Flying Pig Olympic Village",
         "popularity": 0.9436068369443045,
         "rating": 7.1
        },
        {
         "categories": [
          {
           "icon": {
            "prefix": "https://ss3.4sqi.net/img/categories_v2/food/mexican_",
            "suffix": ".png"
           },
           "id": 13303,
           "name": "Mexican Restaurant"
          }
         ],
         "distance": 990,
         "features": {
          "food_and_drink": {
           "meals": {
            "brunch": true,
            "dinner": true,
            "lunch": true
           }
          }
         },
         "geocodes": {
          "main": {
           "latitude": 49.259968,
           "longitude": -123.101406
          },
          "roof": {
           "latitude": 49.259968,
           "longitude": -123.101406
          }
         },
         "name": "Maizal RMF",
         "popularity": 0.9600984457966746,
         "price": 1,
         "rating": 7.1
        },
        {
         "categories": [
          {
           "icon": {
            "prefix": "https://ss3.4sqi.net/img/categories_v2/food/asian_",
            "suffix": ".png"
           },
           "id": 13072,
           "name": "Asian Restaurant"
          },
          {
           "icon": {
            "prefix": "https://ss3.4sqi.net/img/categories_v2/food/japanese_",
            "suffix": ".png"
           },
           "id": 13263,
           "name": "Japanese Restaurant"
          }
         ],
         "distance": 240,
         "features": {
          "amenities": {
           "live_music": false,
           "outdoor_seating": false
          },
          "food_and_drink": {
           "alcohol": {
            "cocktails": false,
            "full_bar": false
           },
           "meals": {
            "brunch": false
           }
          },
          "services": {
           "delivery": false
          }
         },
         "geocodes": {
          "main": {
           "latitude": 49.264709,
           "longitude": -123.115111
          },
          "roof": {
           "latitude": 49.264709,
           "longitude": -123.115111
          }
         },
         "name": "Pepper Lunch",
         "popularity": 0.949653114220379,
         "price": 2,
         "rating": 6.4
        },
        {
         "categories": [
          {
           "icon": {
            "prefix": "https://ss3.4sqi.net/img/categories_v2/food/default_",
            "suffix": ".png"
           },
           "id": 13068,
           "name": "American Restaurant"
          },
          {
           "icon": {
            "prefix": "https://ss3.4sqi.net/img/categories_v2/food/fastfood_",
            "suffix": ".png"
           },
           "id": 13145,
           "name": "Fast Food Restaurant"
          }
         ],
         "distance": 521,
         "features": {
          "amenities": {
           "outdoor_seating": false
          },
          "food_and_drink": {
           "meals": {
            "breakfast": true
           }
          },
          "payment": {
           "credit_cards": {
            "accepts_credit_cards": true
           }
          },
          "services": {
           "delivery": false,
           "dine_in": {
            "groups_only_reservations": false,
            "reservations": false
           }
          }
         },
         "geocodes": {
          "main": {
           "latitude": 49.263505,
           "longitude": -123.121416
          },
          "roof": {
           "latitude": 49.263505,
           "longitude": -123.121416
          }
         },
         "name": "A&W Restaurant",
         "popularity": 0.9581411573194838,
         "price": 1,
         "rating": 6.6
        },
        {
         "categories": [
          {
           "icon": {
            "prefix": "https://ss3.4sqi.net/img/categories_v2/food/default_",
            "suffix": ".png"
           },
           "id": 13068,
           "name": "American Restaurant"
          },
          {
           "icon": {
            "prefix": "https://ss3.4sqi.net/img/categories_v2/food/fastfood_",
            "suffix": ".png"
           },
           "id": 13145,
           "name": "Fast Food Restaurant"
          }
         ],
         "distance": 93,
         "features": {},
         "geocodes": {
          "main": {
           "latitude": 49.26339,
           "longitude": -123.114269
          },
          "roof": {
           "latitude": 49.26339,
           "longitude": -123.114269
          }
         },
         "name": "A&W Restaurant",
         "popularity": 0.9839928684934692,
         "price": 1,
         "rating": 6.2
        },
        {
         "categories": [
          {
           "icon": {
            "prefix": "https://ss3.4sqi.net/img/categories_v2/food/fastfood_",
            "suffix": ".png"
           },
           "id": 13145,
           "name": "Fast Food Restaurant"
          }
         ],
         "distance": 135,
         "features": {
          "amenities": {
           "outdoor_seating": false
          },
          "food_and_drink": {
           "meals": {
            "breakfast": true,
            "brunch": true,
            "dessert": true,
            "dinner": true,
            "lunch": true
           }
          },
          "payment": {
           "credit_cards": {
            "accepts_credit_cards": true
           }
          },
          "services": {
           "delivery": false,
           "dine_in": {
            "groups_only_reservations": false,
            "reservations": false
           }
          }
         },
         "geocodes": {
          "main": {
           "latitude": 49.263714,
           "longitude": -123.114614
          },
          "roof": {
           "latitude": 49.263792,
           "longitude": -123.114546
          }
         },
         "name": "Wendy's",
         "popularity": 0.9965699003914577,
         "price": 1,
         "rating": 6.2
        },
        {
         "categories": [
          {
           "icon": {
            "prefix": "https://ss3.4sqi.net/img/categories_v2/food/asian_",
            "suffix": ".png"
           },
           "id": 13099,
           "name": "Chinese Restaurant"
          }
         ],
         "distance": 774,
         "features": {
          "amenities": {
           "outdoor_seating": false
          },
          "food_and_drink": {
           "meals": {
            "brunch": true,
            "dinner": true,
            "lunch": true
           }
          },
          "payment": {
           "credit_cards": {
            "accepts_credit_cards": true
           }
          },
          "services": {
           "delivery": false,
           "dine_in": {
            "groups_only_reservations": false,
            "reservations": false
           }
          }
         },
         "geocodes": {
          "main": {
           "latitude": 49.25562,
           "longitude": -123.114904
          },
          "roof": {
           "latitude": 49.25562,
           "longitude": -123.114904
          }
         },
         "name": "Café Gloucester 告羅士打餐廳",
         "popularity": 0.9864346343164994,
         "price": 2,
         "rating": 6.6
        },
        {
         "categories": [
          {
           "icon": {
            "prefix": "https://ss3.4sqi.net/img/categories_v2/food/diner_",
            "suffix": ".png"
           },
           "id": 13049,
           "name": "Diner"
          },
          {
           "icon": {
            "prefix": "https://ss3.4sqi.net/img/categories_v2/food/asian_",
            "suffix": ".png"
           },
           "id": 13127,
           "name": "Szechuan Restaurant"
          }
         ],
         "distance": 660,
         "features": {
          "food_and_drink": {
           "meals": {
            "brunch": true,
            "dinner": true,
            "lunch": true
           }
          },
          "payment": {
           "credit_cards": {
            "accepts_credit_cards": true
           }
          },
          "services": {
           "dine_in": {
            "groups_only_reservations": false,
            "reservations": false
           }
          }
         },
         "geocodes": {
          "main": {
           "latitude": 49.265647,
           "longitude": -123.122004
          },
          "roof": {
           "latitude": 49.265647,
           "longitude": -123.122004
          }
         },
         "name": "Szechuan Chili Restaurant",
         "popularity": 0.9110305802100693,
         "rating": 6.5
        },
        {
         "categories": [
          {
           "icon": {
            "prefix": "https://ss3.4sqi.net/img/categories_v2/food/burger_",
            "suffix": ".png"
           },
           "id": 13031,
           "name": "Burger Joint"
          }
         ],
         "distance": 285,
         "features": {
          "amenities": {
           "outdoor_seating": true
          },
          "food_and_drink": {
           "meals": {
            "brunch": true,
            "dinner": true
           }
          },
          "payment": {
           "credit_cards": {
            "accepts_credit_cards": true
           }
          },
          "services": {
           "delivery": false,
           "dine_in": {
            "groups_only_reservations": false,
            "reservations": false
           }
          }
         },
         "geocodes": {
          "main": {
           "latitude": 49.263311,
           "longitude": -123.110706
          },
          "roof": {
           "latitude": 49.263276,
           "longitude": -123.11069
          }
         },
         "name": "Fatburger",
         "popularity": 0.9622689043060346,
         "price": 1,
         "rating": 6.1
        },
        {
         "categories": [
          {
           "icon": {
            "prefix": "https://ss3.4sqi.net/img/categories_v2/food/default_",
            "suffix": ".png"
           },
           "id": 13032,
           "name": "Cafes, Coffee, and Tea Houses"
          },
          {
           "icon": {
            "prefix": "https://ss3.4sqi.net/img/categories_v2/food/default_",
            "suffix": ".png"
           },
           "id": 13065,
           "name": "Restaurant"
          }
         ],
         "distance": 676,
         "geocodes": {
          "main": {
           "latitude": 49.265786,
           "longitude": -123.12234
          },
          "roof": {
           "latitude": 49.265786,
           "longitude": -123.12234
          }
         },
         "name": "Tim Hortons",
         "popularity": 0.9809309716677648,
         "price": 1,
         "rating": 6.3
        },
        {
         "categories": [
          {
           "icon": {
            "prefix": "https://ss3.4sqi.net/img/categories_v2/food/default_",
            "suffix": ".png"
           },
           "id": 13265,
           "name": "Japanese Curry Restaurant"
          }
         ],
         "distance": 156,
         "features": {},
         "geocodes": {
          "main": {
           "latitude": 49.26372,
           "longitude": -123.11381
          },
          "roof": {
           "latitude": 49.26372,
           "longitude": -123.11381
          }
         },
         "name": "Mr. Japanese Curry",
         "popularity": 0.9834502538661292
        },
        {
         "categories": [
          {
           "icon": {
            "prefix": "https://ss3.4sqi.net/img/categories_v2/food/dimsum_",
            "suffix": ".png"
           },
           "id": 13106,
           "name": "Dim Sum Restaurant"
          }
         ],
         "distance": 216,
         "features": {},
         "geocodes": {
          "main": {
           "latitude": 49.260669,
           "longitude": -123.115482
          }
         },
         "name": "Regal Mansion Cusine",
         "popularity": 0.9658734157590791,
         "price": 2
        },
        {
         "categories": [
          {
           "icon": {
            "prefix": "https://ss3.4sqi.net/img/categories_v2/food/default_",
            "suffix": ".png"
           },
           "id": 13192,
           "name": "Hawaiian Restaurant"
          }
         ],
         "distance": 225,
         "geocodes": {
          "main": {
           "latitude": 49.263745,
           "longitude": -123.111953
          }
         },
         "name": "Pokerrito",
         "popularity": 0.9440525561024766
        },
        {
         "categories": [
          {
           "icon": {
            "prefix": "https://ss3.4sqi.net/img/categories_v2/food/asian_",
            "suffix": ".png"
           },
           "id": 13099,
           "name": "Chinese Restaurant"
          }
         ],
         "distance": 257,
         "features": {
          "food_and_drink": {
           "meals": {
            "brunch": true,
            "dinner": true,
            "lunch": true
           }
          }
         },
         "geocodes": {
          "main": {
           "latitude": 49.260169,
           "longitude": -123.114513
          }
         },
         "name": "Iden & Quan Ju de Beijing Duck House",
         "popularity": 0.9393628153947522,
         "price": 1
        }
       ]
      },
      "text/plain": [
       "<IPython.core.display.JSON object>"
      ]
     },
     "execution_count": 4,
     "metadata": {
      "application/json": {
       "expanded": false,
       "root": "root"
      }
     },
     "output_type": "execute_result"
    }
   ],
   "source": [
    "JSON(station(\"49.262487,-123.114397\").json())"
   ]
  },
  {
   "cell_type": "markdown",
   "metadata": {},
   "source": [
    "Parse through the response to get the POI (such as restaurants, bars, etc) details you want (ratings, name, location, etc)"
   ]
  },
  {
   "cell_type": "code",
   "execution_count": 5,
   "metadata": {},
   "outputs": [],
   "source": [
    "def POI_fs(request):\n",
    "    '''\n",
    "    request: HTTP Code <200>\n",
    "    Take in a HTTP code and convert it to JSON.\n",
    "    Return: List\n",
    "    '''\n",
    "    request_in_json = request.json()\n",
    "    results = request_in_json['results']\n",
    "    list_of_results = []\n",
    "    for result in results:\n",
    "        new_dict = {}\n",
    "        new_dict['name'] = result.get('name', None)\n",
    "        new_dict['popularity'] = result.get('popularity', None)\n",
    "        new_dict['price'] = result.get('price', None)\n",
    "        new_dict['rating'] = result.get('rating', None)\n",
    "        new_dict['categories_name'] = result.get('categories', {})[0].get('name', None)\n",
    "        new_dict['latitude'] = result.get('geocodes', {}).get('main', {}).get('latitude', None)\n",
    "        new_dict['longitude'] = result.get('geocodes', {}).get('main', {}).get('longitude', None)\n",
    "        new_dict['distance'] = result.get('distance', None)\n",
    "        new_dict['credit_card'] = result.get('features', {}).get('payment', {}).get('credit_cards', {}).get('accepts_credit_cards', None)\n",
    "        new_dict['beer'] = result.get('features', {}).get('food_and_drink', {}).get('alcohol', {}).get('beer', None)\n",
    "        new_dict['outdoor_seating'] = result.get('features', {}).get('amenities', {}).get('outdoor_seating', None)\n",
    "        \n",
    "        list_of_results.append(new_dict)\n",
    "    return list_of_results"
   ]
  },
  {
   "cell_type": "markdown",
   "metadata": {},
   "source": [
    "Put your parsed results into a DataFrame"
   ]
  },
  {
   "cell_type": "code",
   "execution_count": 6,
   "metadata": {},
   "outputs": [],
   "source": [
    "def data_frame(listOfResults):\n",
    "    '''\n",
    "    listOfResults: list -> DataFrame\n",
    "    '''\n",
    "    return pd.DataFrame(listOfResults)"
   ]
  },
  {
   "cell_type": "markdown",
   "metadata": {},
   "source": [
    "# Yelp"
   ]
  },
  {
   "cell_type": "markdown",
   "metadata": {},
   "source": [
    "Send a request to Yelp with a small radius (1000m) for all the bike stations in your city of choice. "
   ]
  },
  {
   "cell_type": "code",
   "execution_count": 7,
   "metadata": {},
   "outputs": [],
   "source": [
    "def yelp_station(ll_value):\n",
    "    '''\n",
    "    ll_value: str\n",
    "    return: HTTPCode\n",
    "    Take a string that looks like \"latitude,longitude\"\n",
    "    '''\n",
    "    headers_yelp = {}\n",
    "    headers_yelp[\"Authorization\"] = \"Bearer \" + os.environ.get('YELP_API_KEY')\n",
    "    url = \"https://api.yelp.com/v3/businesses/search\"\n",
    "    parameters = {'latitude' : ll_value.split(\",\")[0],\n",
    "                  'longitude' : ll_value.split(\",\")[1],\n",
    "                  'radius': 1000,\n",
    "                  'categories' : \"bars,restaurants\",\n",
    "                  'limit': 50,\n",
    "                 }\n",
    "    yelp_networks = requests.get(url, headers=headers_yelp, params=parameters)\n",
    "    return yelp_networks"
   ]
  },
  {
   "cell_type": "markdown",
   "metadata": {},
   "source": [
    "Parse through the response to get the POI (such as restaurants, bars, etc) details you want (ratings, name, location, etc)"
   ]
  },
  {
   "cell_type": "code",
   "execution_count": 8,
   "metadata": {},
   "outputs": [],
   "source": [
    "def POI_yelp(request):\n",
    "    '''\n",
    "    request: HTTP Code <200>\n",
    "    Take in a HTTP code and convert it to JSON.\n",
    "    Return: List\n",
    "    '''\n",
    "    request_in_json = request.json()\n",
    "    businesses = request_in_json['businesses']\n",
    "    list_of_businesses = []\n",
    "    for business in businesses:\n",
    "        new_dict = {}\n",
    "        new_dict['name'] = business.get('name', None)\n",
    "        new_dict['price'] = business.get('price', None)\n",
    "        new_dict['rating'] = business.get('rating', None)\n",
    "        new_dict['latitude'] = business.get('coordinates', None).get('latitude', None)\n",
    "        new_dict['longtitude'] = business.get('coordinates', None).get('longitude', None)\n",
    "        new_dict['review_count'] = business.get('review_count', None)\n",
    "        new_dict['distance'] = business.get('distance', None)\n",
    "        list_of_businesses.append(new_dict)\n",
    "    return list_of_businesses"
   ]
  },
  {
   "cell_type": "markdown",
   "metadata": {},
   "source": [
    "Put your parsed results into a DataFrame"
   ]
  },
  {
   "cell_type": "code",
   "execution_count": 9,
   "metadata": {},
   "outputs": [],
   "source": [
    "def df_yelp(poi_yelp):\n",
    "    return pd.DataFrame(poi_yelp)"
   ]
  },
  {
   "cell_type": "markdown",
   "metadata": {},
   "source": [
    "# Comparing Results"
   ]
  },
  {
   "cell_type": "markdown",
   "metadata": {},
   "source": [
    "Which API provided you with more complete data? Provide an explanation. "
   ]
  },
  {
   "cell_type": "markdown",
   "metadata": {},
   "source": []
  },
  {
   "cell_type": "markdown",
   "metadata": {},
   "source": [
    "Get the top 10 restaurants according to their rating"
   ]
  },
  {
   "cell_type": "code",
   "execution_count": 10,
   "metadata": {},
   "outputs": [
    {
     "name": "stdout",
     "output_type": "stream",
     "text": [
      "                       name  popularity  price  rating    categories_name  \\\n",
      "7       33 Acres Brewing Co    0.957773    2.0     9.2                Bar   \n",
      "9            Elysian Coffee    0.951765    1.0     8.9               Café   \n",
      "4             Milano Coffee    0.954459    2.0     8.8        Coffee Shop   \n",
      "1    Rogue Kitchen & Wetbar    0.980815    3.0     8.8                Bar   \n",
      "6                     Vij's    0.958393    2.0     8.8  Indian Restaurant   \n",
      "0   Hokkaido Ramen Santouka    0.984303    NaN     8.7   Ramen Restaurant   \n",
      "3       Aperture Coffee Bar    0.927561    1.0     8.7               Café   \n",
      "11             Gyu-Kaku BBQ    0.973334    3.0     8.7          BBQ Joint   \n",
      "2   Elysian Coffee Broadway    0.979981    1.0     8.6        Coffee Shop   \n",
      "17         The Cascade Room    0.921301    2.0     8.5        Music Venue   \n",
      "\n",
      "     latitude   longitude  distance credit_card  beer outdoor_seating  \n",
      "7   49.263877 -123.105307       674        True  True           False  \n",
      "9   49.264587 -123.105043       724        True  None           False  \n",
      "4   49.263703 -123.108618       430        True  None            True  \n",
      "1   49.263123 -123.117652       250        True  True            True  \n",
      "6   49.257634 -123.114751       553        None  None           False  \n",
      "0   49.263102 -123.116677       186        True  None            None  \n",
      "3   49.263286 -123.110286       299        True  None           False  \n",
      "11  49.263191 -123.125282       813        True  None           False  \n",
      "2   49.263133 -123.117248       225        True  None            True  \n",
      "17  49.261723 -123.100663       984        True  True           False  \n"
     ]
    }
   ],
   "source": [
    "def mainfunction_foursq(llvalue):\n",
    "    request_code = station(llvalue)\n",
    "    point = POI_fs(request_code)\n",
    "    return data_frame(point)\n",
    "\n",
    "print(mainfunction_foursq(\"49.262487,-123.114397\").sort_values(by='rating', ascending=False).head(10))"
   ]
  },
  {
   "cell_type": "code",
   "execution_count": 11,
   "metadata": {},
   "outputs": [
    {
     "name": "stdout",
     "output_type": "stream",
     "text": [
      "                   name price  rating   latitude  longtitude  review_count  \\\n",
      "9             Uma Sushi   $$$     4.5  49.263805 -123.113729           109   \n",
      "48         Simit Bakery  None     4.5  49.263235 -123.108772            33   \n",
      "39            Deja Brew    $$     4.5  49.263660 -123.125130            52   \n",
      "38     Yu Shang Hot Pot  None     4.5  49.263149 -123.125629            66   \n",
      "8   Indian Roti Kitchen    $$     4.5  49.259010 -123.115380           154   \n",
      "19  Mangia Cucina & Bar    $$     4.5  49.265427 -123.106907            72   \n",
      "27           Maizal RMF    $$     4.5  49.260010 -123.101299           141   \n",
      "29            Superbaba  None     4.5  49.263330 -123.101268            67   \n",
      "30          Menya Raizo    $$     4.0  49.263360 -123.113140            68   \n",
      "21       Burgoo Bistros    $$     4.0  49.257630 -123.100840           486   \n",
      "\n",
      "       distance  \n",
      "9    152.157897  \n",
      "48   401.706105  \n",
      "39   789.664375  \n",
      "38   818.363433  \n",
      "8    391.283162  \n",
      "19   634.271387  \n",
      "27   985.254194  \n",
      "29   957.289345  \n",
      "30   133.678673  \n",
      "21  1123.639395  \n"
     ]
    }
   ],
   "source": [
    "def mainfunction_yelp(llvalue):\n",
    "    request_code = yelp_station(llvalue)\n",
    "    point = POI_yelp(request_code)\n",
    "    return df_yelp(point)\n",
    "\n",
    "print(mainfunction_yelp(\"49.262487,-123.114397\").sort_values(by='rating', ascending=False).head(10))"
   ]
  },
  {
   "cell_type": "code",
   "execution_count": null,
   "metadata": {},
   "outputs": [],
   "source": [
    "#Change dataframe to csv\n",
    "list_of_df = []\n",
    "for indx in range(len(ll)):\n",
    "    combined = mainfunction_foursq(ll[indx])\n",
    "    combined['bikes'] = df['free_bikes'][indx]\n",
    "    list_of_df.append(combined)\n",
    "\n",
    "newdfs = pd.concat(list_of_df)\n",
    "newdfs.to_csv('fs_restaurant_info.csv')"
   ]
  },
  {
   "cell_type": "code",
   "execution_count": null,
   "metadata": {},
   "outputs": [],
   "source": []
  }
 ],
 "metadata": {
  "kernelspec": {
   "display_name": "Python 3 (ipykernel)",
   "language": "python",
   "name": "python3"
  },
  "language_info": {
   "codemirror_mode": {
    "name": "ipython",
    "version": 3
   },
   "file_extension": ".py",
   "mimetype": "text/x-python",
   "name": "python",
   "nbconvert_exporter": "python",
   "pygments_lexer": "ipython3",
   "version": "3.9.12"
  }
 },
 "nbformat": 4,
 "nbformat_minor": 4
}
